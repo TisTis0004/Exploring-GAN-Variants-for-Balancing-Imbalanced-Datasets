{
 "cells": [
  {
   "cell_type": "code",
   "execution_count": null,
   "id": "32377e3a",
   "metadata": {},
   "outputs": [],
   "source": [
    "import torch\n",
    "import torch.nn as nn\n",
    "import torch.optim as optim\n",
    "from torch.utils.data import Dataset, DataLoader, TensorDataset\n",
    "from torchvision import transforms, utils\n",
    "import torchvision\n",
    "import numpy as np\n",
    "import matplotlib.pyplot as plt\n",
    "import os\n",
    "from imbalancer import Imbalancer"
   ]
  },
  {
   "cell_type": "markdown",
   "id": "e122cb74",
   "metadata": {},
   "source": [
    "## Generator"
   ]
  },
  {
   "cell_type": "code",
   "execution_count": null,
   "id": "1d71442b",
   "metadata": {},
   "outputs": [],
   "source": [
    "class Generator(nn.Module):\n",
    "    def __init__(self, input_dim, img_channels, features_g):\n",
    "        super().__init__()\n",
    "        self.net = nn.Sequential(\n",
    "            self._block(input_dim, features_g * 8, 4, 1, 0),\n",
    "            self._block(features_g * 8, features_g * 4, 4, 2, 1),\n",
    "            self._block(features_g * 4, features_g * 2, 4, 2, 1),\n",
    "            nn.ConvTranspose2d(features_g * 2, img_channels, 4, 2, 1),\n",
    "            nn.Tanh()\n",
    "        )\n",
    "\n",
    "    def _block(self, in_channels, out_channels, kernel, stride, padding):\n",
    "        return nn.Sequential(\n",
    "            nn.ConvTranspose2d(in_channels, out_channels, kernel, stride, padding),\n",
    "            nn.BatchNorm2d(out_channels),\n",
    "            nn.ReLU()\n",
    "        )\n",
    "\n",
    "    def forward(self, x):\n",
    "        return self.net(x)\n",
    "    \n",
    "x = torch.randn(64, 100, 1, 1, device=\"cuda\")\n",
    "g = Generator(100, 1, 64).to(\"cuda\")\n",
    "g(x).shape"
   ]
  },
  {
   "cell_type": "markdown",
   "id": "4967a625",
   "metadata": {},
   "source": [
    "## Discriminator"
   ]
  },
  {
   "cell_type": "code",
   "execution_count": 14,
   "id": "6e856cf8",
   "metadata": {},
   "outputs": [],
   "source": [
    "class Discriminator(nn.Module):\n",
    "    def __init__(self, img_channels, features_d):\n",
    "        super().__init__()\n",
    "        self.net = nn.Sequential(\n",
    "            nn.Conv2d(img_channels, features_d, 4, 2, 1),\n",
    "            nn.LeakyReLU(0.2),\n",
    "            self._block(features_d, features_d * 2, 4, 2, 1),\n",
    "            self._block(features_d * 2, features_d * 4, 4, 2, 1),\n",
    "            self._block(features_d * 4, features_d * 8, 4, 2, 1),\n",
    "            nn.Conv2d(features_d * 8, 1, 2, 1, 0),\n",
    "        )\n",
    "\n",
    "    def _block(self, in_channels, out_channels, kernel, stride, padding):\n",
    "        return nn.Sequential(\n",
    "            nn.Conv2d(in_channels, out_channels, kernel, stride, padding),\n",
    "            nn.BatchNorm2d(out_channels),\n",
    "            nn.LeakyReLU(0.2)\n",
    "        )\n",
    "\n",
    "    def forward(self, x):\n",
    "        return self.net(x).view(-1)"
   ]
  },
  {
   "cell_type": "markdown",
   "id": "787e0387",
   "metadata": {},
   "source": [
    "## Hyperparameters"
   ]
  },
  {
   "cell_type": "code",
   "execution_count": 15,
   "id": "0146c642",
   "metadata": {},
   "outputs": [],
   "source": [
    "batch_size = 64\n",
    "noise_dim = 100\n",
    "image_size = 32\n",
    "img_channels = 1\n",
    "features_gen = 32\n",
    "features_disc = 32\n",
    "epochs = 500\n",
    "lr = 0.0002\n",
    "lambda_gp = 10\n",
    "critic_iterations = 5\n",
    "device = torch.device(\"cuda\" if torch.cuda.is_available() else \"cpu\")"
   ]
  },
  {
   "cell_type": "markdown",
   "id": "05476396",
   "metadata": {},
   "source": [
    "## Load and Imbalance The Dataset (2 approaches)"
   ]
  },
  {
   "cell_type": "code",
   "execution_count": null,
   "id": "41ca3457",
   "metadata": {},
   "outputs": [],
   "source": [
    "transform = transforms.Compose([\n",
    "    transforms.Resize(image_size),\n",
    "    transforms.ToTensor(),\n",
    "    transforms.Normalize([0.5], [0.5])\n",
    "])"
   ]
  },
  {
   "cell_type": "code",
   "execution_count": null,
   "id": "832b6273",
   "metadata": {},
   "outputs": [],
   "source": [
    "dataset = torchvision.datasets.FashionMNIST(root=\"./\", train=True, download=True, transform=transform)\n",
    "images = np.stack([np.array(img) for img, _ in dataset])\n",
    "labels = [label for _, label in dataset]\n",
    "minor_class = 1\n",
    "imb = Imbalancer(images, labels, minor_class=minor_class, keep_ratio=0.2, output_path=\"../imbalanced_dataset_WGAN_fashion_mnist\")\n",
    "imb.imbalance()\n",
    "imb.visualize()\n",
    "imb.save()\n",
    "\n",
    "data = torch.load(\"../imbalanced_dataset_WGAN_fashion_mnist/data.pt\") # Produced by imbalancer.py\n",
    "labels = torch.load(\"../imbalanced_dataset_WGAN_fashion_mnist/labels.pt\") # Produced by imbalancer.py\n",
    "mask = labels == 1\n",
    "filtered_data = data[mask]\n",
    "filtered_labels = labels[mask]\n",
    "\n",
    "#====================================================================================\n",
    "# Loading locally\n",
    "\n",
    "# dataset = torchvision.datasets.FashionMNIST(root=\"./\", train=True, download=True, transform=transform)\n",
    "# images = np.stack([np.array(img) for img, _ in dataset])\n",
    "# labels = [label for _, label in dataset]\n",
    "# targets = np.array(dataset.targets)\n",
    "# class_counts = {i: 5000 for i in range(10)}\n",
    "# class_counts[1] = 500  # Make class 1 smaller\n",
    "\n",
    "# indices = []\n",
    "# for cls, count in class_counts.items():\n",
    "#     cls_indices = np.where(targets == cls)[0]\n",
    "#     indices.extend(cls_indices[:count])\n",
    "# imbalanced_subset = Subset(dataset, indices)\n",
    "\n",
    "# images = []\n",
    "# labels = []\n",
    "# for img, label in imbalanced_subset:\n",
    "#     images.append(img)\n",
    "#     labels.append(label)\n",
    "# images = torch.stack(images)\n",
    "# labels = torch.tensor(labels)\n",
    "\n",
    "# images = []\n",
    "# labels = []\n",
    "\n",
    "# for img, label in imbalanced_subset:\n",
    "#     images.append(img)\n",
    "#     labels.append(label)\n",
    "\n",
    "# images = torch.stack(images)\n",
    "# labels = torch.tensor(labels)\n",
    "# mask_0 = labels == 1\n",
    "\n",
    "\n",
    "# images_1 = images[mask_0]\n",
    "# labels_1 = labels[mask_0]\n",
    "# dataset_1 = TensorDataset(images_1, labels_1)\n",
    "# len(dataset_1)"
   ]
  },
  {
   "cell_type": "code",
   "execution_count": null,
   "id": "1709a63d",
   "metadata": {},
   "outputs": [],
   "source": [
    "dataset = TensorDataset(filtered_data, filtered_labels)\n",
    "dataloader = DataLoader(dataset, batch_size=batch_size, shuffle=True)"
   ]
  },
  {
   "cell_type": "markdown",
   "id": "7ce42ee2",
   "metadata": {},
   "source": [
    "## Create Generator & Discriminator"
   ]
  },
  {
   "cell_type": "code",
   "execution_count": 19,
   "id": "642e91f1",
   "metadata": {},
   "outputs": [],
   "source": [
    "gen = Generator(noise_dim, img_channels, features_gen).to(device)\n",
    "disc = Discriminator(img_channels, features_disc).to(device)\n",
    "\n",
    "opt_gen = optim.Adam(gen.parameters(), lr=lr, betas=(0.0, 0.9))\n",
    "opt_disc = optim.Adam(disc.parameters(), lr=lr, betas=(0.0, 0.9))"
   ]
  },
  {
   "cell_type": "markdown",
   "id": "4032c18a",
   "metadata": {},
   "source": [
    "## Gradient Penalty"
   ]
  },
  {
   "cell_type": "code",
   "execution_count": 20,
   "id": "21d149f1",
   "metadata": {},
   "outputs": [],
   "source": [
    "def gradient_penalty(disc, real, fake):\n",
    "    batch_size, c, h, w = real.shape\n",
    "    epsilon = torch.rand(batch_size, 1, 1, 1).repeat(1, c, h, w).to(device)\n",
    "    interpolated = (epsilon * real + (1 - epsilon) * fake).requires_grad_(True)\n",
    "    mixed_scores = disc(interpolated)\n",
    "\n",
    "    grad = torch.autograd.grad(\n",
    "        inputs=interpolated, outputs=mixed_scores,\n",
    "        grad_outputs=torch.ones_like(mixed_scores),\n",
    "        create_graph=True, retain_graph=True, only_inputs=True\n",
    "    )[0]\n",
    "    grad = grad.view(grad.size(0), -1)\n",
    "    gp = ((grad.norm(2, dim=1) - 1) ** 2).mean()\n",
    "    return gp"
   ]
  },
  {
   "cell_type": "code",
   "execution_count": 21,
   "id": "54fa4a53",
   "metadata": {},
   "outputs": [],
   "source": [
    "def show_generated_imgs(fake_imgs, real_imgs, epoch, nrow=8):\n",
    "    # De-normalize from [-1, 1] to [0, 1]\n",
    "    fake_imgs = fake_imgs[:nrow * nrow] * 0.5 + 0.5\n",
    "    real_imgs = real_imgs[:nrow * nrow] * 0.5 + 0.5\n",
    "\n",
    "    # Create grids\n",
    "    fake_grid = torchvision.utils.make_grid(fake_imgs, nrow=nrow).permute(1, 2, 0).cpu().numpy()\n",
    "    real_grid = torchvision.utils.make_grid(real_imgs, nrow=nrow).permute(1, 2, 0).cpu().numpy()\n",
    "\n",
    "    # Plot side by side\n",
    "    fig, axs = plt.subplots(1, 2, figsize=(16, 8))\n",
    "    axs[0].imshow(real_grid)\n",
    "    axs[0].set_title(\"Real Images\")\n",
    "    axs[0].axis(\"off\")\n",
    "\n",
    "    axs[1].imshow(fake_grid)\n",
    "    axs[1].set_title(f\"Generated Images (Epoch {epoch})\")\n",
    "    axs[1].axis(\"off\")\n",
    "\n",
    "    plt.tight_layout()\n",
    "    plt.show()\n"
   ]
  },
  {
   "cell_type": "markdown",
   "id": "15be82d8",
   "metadata": {},
   "source": [
    "## Training"
   ]
  },
  {
   "cell_type": "code",
   "execution_count": null,
   "id": "a3f793d7",
   "metadata": {},
   "outputs": [],
   "source": [
    "for epoch in range(epochs):\n",
    "    for batch_idx, (real, _) in enumerate(dataloader):\n",
    "        real = real.to(device)\n",
    "        batch_size_curr = real.size(0)\n",
    "\n",
    "        for _ in range(critic_iterations):\n",
    "            noise = torch.randn(batch_size_curr, noise_dim, 1, 1).to(device)\n",
    "            fake = gen(noise)\n",
    "            disc_real = disc(real)\n",
    "            disc_fake = disc(fake.detach())\n",
    "            gp = gradient_penalty(disc, real, fake)\n",
    "            lossD = -(torch.mean(disc_real) - torch.mean(disc_fake)) + lambda_gp * gp\n",
    "\n",
    "            disc.zero_grad()\n",
    "            lossD.backward()\n",
    "            opt_disc.step()\n",
    "\n",
    "        # Train Generator\n",
    "        noise = torch.randn(batch_size_curr, noise_dim, 1, 1).to(device)\n",
    "        fake = gen(noise)\n",
    "        output = disc(fake)\n",
    "        lossG = -torch.mean(output)\n",
    "\n",
    "        gen.zero_grad()\n",
    "        lossG.backward()\n",
    "        opt_gen.step()\n",
    "\n",
    "        if batch_idx % 100 == 0:\n",
    "            print(f\"Epoch {epoch+1}/{epochs} | D Loss: {lossD.item():.4f} | G Loss: {lossG.item():.4f}\")\n",
    "\n",
    "    if epoch % 10 == 0 or epoch == epochs - 1:\n",
    "        show_generated_imgs(fake, real, epoch)"
   ]
  },
  {
   "cell_type": "markdown",
   "id": "54e398bf",
   "metadata": {},
   "source": [
    "## Show Samples of The Generated Images"
   ]
  },
  {
   "cell_type": "code",
   "execution_count": null,
   "id": "f7805e50",
   "metadata": {},
   "outputs": [],
   "source": [
    "with torch.no_grad():\n",
    "    noise = torch.randn(64, noise_dim, 1, 1).to(device)\n",
    "    fake_images = gen(noise)\n",
    "    grid = utils.make_grid(fake_images, nrow=8)\n",
    "    plt.imshow(grid.permute(1, 2, 0).cpu().numpy())\n",
    "    plt.title(\"Generated Images\")\n",
    "    plt.axis(\"off\")\n",
    "    plt.show()"
   ]
  },
  {
   "cell_type": "markdown",
   "id": "d26bf074",
   "metadata": {},
   "source": [
    "## Save The Model"
   ]
  },
  {
   "cell_type": "code",
   "execution_count": null,
   "id": "27f4c76e",
   "metadata": {},
   "outputs": [],
   "source": [
    "save_dir = \"../saved_models\"\n",
    "os.makedirs(save_dir, exist_ok=True)\n",
    "torch.save(gen.state_dict(), os.path.join(save_dir, f\"WGAN_generator_fashion_mnist_epoch_{epochs}.pth\"))\n",
    "torch.save(disc.state_dict(), os.path.join(save_dir, f\"WGAN_discriminator_fashion_mnist_epoch_{epochs}.pth\"))"
   ]
  },
  {
   "cell_type": "markdown",
   "id": "1dd7e062",
   "metadata": {},
   "source": [
    "## Balancing The Dataset for Representation"
   ]
  },
  {
   "cell_type": "code",
   "execution_count": null,
   "id": "be872517",
   "metadata": {},
   "outputs": [],
   "source": [
    "gen_path = f\"../saved_models/WGAN_generator_fashion_mnist_epoch_{epochs}.pth\"\n",
    "imbalanced_data_path = \"../imbalanced_dataset_WGAN_fashion_mnist/data.pt\"\n",
    "imbalanced_labels_path = \"../imbalanced_dataset_WGAN_fashion_mnist/labels.pt\"\n",
    "output_balanced_dir = \"../balanced_dataset_WGAN_fashion_mnist\"\n",
    "\n",
    "minor_class = 1\n",
    "\n",
    "os.makedirs(output_balanced_dir, exist_ok=True)\n",
    "\n",
    "data = torch.load(imbalanced_data_path)\n",
    "labels = torch.load(imbalanced_labels_path)\n",
    "\n",
    "\n",
    "if data.dim() == 3:\n",
    "    data = data.unsqueeze(1)\n",
    "\n",
    "\n",
    "\n",
    "class_counts = torch.bincount(labels)\n",
    "max_count = class_counts.max().item()\n",
    "minor_count = class_counts[minor_class].item()\n",
    "num_to_generate = max_count - minor_count\n",
    "print(f\"Need to generate {num_to_generate} samples for class {minor_class}.\")\n",
    "\n",
    "device = torch.device(\"cuda\" if torch.cuda.is_available() else \"cpu\")\n",
    "\n",
    "gen = Generator(noise_dim, img_channels, features_gen).to(device)\n",
    "gen.load_state_dict(torch.load(gen_path, map_location=device))\n",
    "gen.eval()\n",
    "\n",
    "\n",
    "generated_images = []\n",
    "\n",
    "with torch.no_grad():\n",
    "    for _ in range((num_to_generate + batch_size - 1) // batch_size):\n",
    "        current_batch_size = min(batch_size, num_to_generate - len(generated_images))\n",
    "        noise = torch.randn(current_batch_size, noise_dim, 1, 1).to(device)\n",
    "        fake_imgs = gen(noise).cpu()\n",
    "        # fake_imgs = torch.nn.functional.interpolate(fake_imgs, size=(28, 28), mode='bilinear', align_corners=False)\n",
    "        # fake_imgs = ((fake_imgs + 1) / 2).clamp(0, 1)\n",
    "        generated_images.append(fake_imgs)\n",
    "\n",
    "generated_images = torch.cat(generated_images, dim=0)\n",
    "generated_labels = torch.full((generated_images.size(0),), minor_class, dtype=torch.long)\n",
    "\n",
    "\n",
    "balanced_data = torch.cat([data, generated_images], dim=0)\n",
    "balanced_labels = torch.cat([labels, generated_labels], dim=0)\n",
    "\n",
    "torch.save(balanced_data, os.path.join(output_balanced_dir, \"data.pt\"))\n",
    "torch.save(balanced_labels, os.path.join(output_balanced_dir, \"labels.pt\"))\n",
    "\n",
    "\n",
    "\n",
    "print(f\"Balanced dataset saved to: {output_balanced_dir}\")"
   ]
  },
  {
   "cell_type": "markdown",
   "id": "e08ff1e1",
   "metadata": {},
   "source": [
    "## Classes Distribution Before & After"
   ]
  },
  {
   "cell_type": "code",
   "execution_count": null,
   "id": "d83ddd7f",
   "metadata": {},
   "outputs": [
    {
     "data": {
      "image/png": "[encoded data removed]",
      "text/plain": [
       "<Figure size 1200x500 with 2 Axes>"
      ]
     },
     "metadata": {},
     "output_type": "display_data"
    }
   ],
   "source": [
    "import matplotlib.pyplot as plt\n",
    "import seaborn as sns\n",
    "\n",
    "# Before balancing\n",
    "plt.figure(figsize=(12, 5))\n",
    "\n",
    "plt.subplot(1, 2, 1)\n",
    "sns.countplot(x=labels.numpy())\n",
    "plt.title('Class Distribution Before Balancing')\n",
    "plt.xlabel('Class')\n",
    "plt.ylabel('Count')\n",
    "\n",
    "# After balancing\n",
    "plt.subplot(1, 2, 2)\n",
    "sns.countplot(x=balanced_labels.numpy())\n",
    "plt.title('Class Distribution After Balancing')\n",
    "plt.xlabel('Class')\n",
    "plt.ylabel('Count')\n",
    "\n",
    "plt.tight_layout()\n",
    "plt.show()"
   ]
  }
 ],
 "metadata": {
  "kernelspec": {
   "display_name": "GAN_project",
   "language": "python",
   "name": "python3"
  },
  "language_info": {
   "codemirror_mode": {
    "name": "ipython",
    "version": 3
   },
   "file_extension": ".py",
   "mimetype": "text/x-python",
   "name": "python",
   "nbconvert_exporter": "python",
   "pygments_lexer": "ipython3",
   "version": "3.12.9"
  }
 },
 "nbformat": 4,
 "nbformat_minor": 5
}
